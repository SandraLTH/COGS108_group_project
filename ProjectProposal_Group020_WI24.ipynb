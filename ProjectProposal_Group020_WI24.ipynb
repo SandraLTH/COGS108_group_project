{
 "cells": [
  {
   "cell_type": "markdown",
   "metadata": {},
   "source": [
    "# COGS 108 - Project Proposal"
   ]
  },
  {
   "cell_type": "markdown",
   "metadata": {},
   "source": [
    "# Names\n",
    "\n",
    "- Sandra Lin\n",
    "- Rebekah Kim\n",
    "- Arman Rahman\n",
    "- Charline Li\n",
    "- Wen Hsin Chang"
   ]
  },
  {
   "cell_type": "markdown",
   "metadata": {},
   "source": [
    "# Research Question"
   ]
  },
  {
   "cell_type": "markdown",
   "metadata": {},
   "source": [
    "**How does the proximity to the University of California, San Diego (UCSD) and other colleges in San Diego affect the prices of residential homes in the surrounding areas?**\n",
    "\n",
    "This question aims to quantify the relationship between the proximity of residential properties to higher education institutions in San Diego and their rental prices. By focusing on the variables of zip codes of college-adjacent areas, the number of bedrooms in a rental property, and the rental prices, we seek to understand how closeness to UCSD and other colleges affects the cost of renting in these locales. This approach allows for a data-driven analysis of the premium placed on properties near educational institutions and how this varies across different types of rental accommodations."
   ]
  },
  {
   "cell_type": "markdown",
   "metadata": {},
   "source": [
    "## Background and Prior Work"
   ]
  },
  {
   "cell_type": "markdown",
   "metadata": {},
   "source": [
    "The interplay between higher education institutions and local real estate markets, particularly in terms of rental prices, presents a fascinating area of study that has garnered considerable attention in academic research. The presence of universities is often seen as a catalyst for higher rental prices in surrounding areas, attributed to the amenities and opportunities these institutions provide. This dynamic is evident in various global contexts, from Beijing to multiple U.S. cities, underscoring the universal appeal of living near educational establishments for access to education, employment, cultural events, and improved infrastructure.\n",
    "\n",
    "In San Diego, the proximity to higher education institutions such as the University of California, San Diego (UCSD), along with other colleges, offers a unique case study to examine this phenomenon within the local rental market. The following sections delve into how these relationships manifest in San Diego, drawing on the broader insights provided by previous research and focusing on the specific impact that UCSD and other colleges have on rental prices.\n",
    "\n",
    "**Impact of UCSD on Rental Housing Market in San Diego**\n",
    "\n",
    "Similar to the findings of Minggang Feng in Beijing, the San Diego rental market demonstrates a significant premium on properties located near UCSD<a name=\"cite_ref-1\"></a>[<sup>1</sup>](#cite_note-1). The university not only serves as an educational hub but also as a center for cultural and recreational activities, enhancing the desirability of nearby neighborhoods. This premium reflects the high demand for rental properties offering convenient access to the university's resources, amenities, and employment opportunities. The specific impact of UCSD on San Diego's rental prices can be analyzed through regression analysis, mirroring Feng's approach to explore the correlation between proximity to UCSD and elevated rent levels.\n",
    "\n",
    "**Broader Influence of Educational and Healthcare Institutions**\n",
    "\n",
    "Expanding upon the work of Ryan Rivas et al., which examined the collective impact of colleges and hospitals on real estate values across U.S. cities, a similar analysis in San Diego would likely reveal that properties near both educational and medical facilities command higher rents<a name=\"cite_ref-2\"></a>[<sup>2</sup>](#cite_note-2). This phenomenon underscores the broader economic and social value these institutions add to communities. In San Diego, the presence of UCSD Medical Center alongside other colleges contributes to this effect, further enhancing the attractiveness of the local real estate market for potential renters seeking proximity to both educational and healthcare amenities.\n",
    "\n",
    "**Continued Appeal of Living Near Universities**\n",
    "\n",
    "Building on the insights from Wang's research on the post-COVID appeal of university proximities, the San Diego case emphasizes the enduring demand for housing near academic institutions like UCSD<a name=\"cite_ref-3\"></a>[<sup>3</sup>](#cite_note-3)\n",
    ". Despite broader economic or societal shifts, including those induced by the COVID-19 pandemic, the appeal of living near universities remains strong. This sustained interest is driven by the value proposition offered by such locations, including accessibility to educational, cultural, and recreational amenities, which continues to influence buyer preferences and rental market dynamics in San Diego.\n",
    "\n",
    "These considerations offer a comprehensive view of the dynamics at play in the rental market around UCSD and other colleges in San Diego. By examining the specific impacts of these institutions, this analysis contributes to a deeper understanding of the factors influencing rental prices, providing valuable insights for renters, investors, and policymakers. The case of San Diego reaffirms the significant role higher education institutions play in shaping local real estate markets, emphasizing the importance of educational proximity in urban planning and real estate investment decisions.\n",
    "\n",
    "1. <a name=\"cite_note-1\"></a> [^](#cite_ref-1) Feng, M. \"How will proximity to higher education affect the rental housing market? A case in Beijing. A regression analysis of rent level in Beijing.\" https://www.diva-portal.org/smash/get/diva2:1335037/FULLTEXT01.pdf\n",
    "2. <a name=\"cite_note-2\"></a> [^](#cite_ref-2) Rivas, R., Patil, D., Hristidis, V., Barr, J.R., & Srinivasan, N. (2019). \"The impact of colleges and hospitals to local real estate markets.\" Journal of Big Data, 6(7). https://journalofbigdata.springeropen.com/articles/10.1186/s40537-019-0174-7\n",
    "3. <a name=\"cite_note-3\"></a> [^](#cite_ref-3) Bingbing Wang, \"The Effect of Proximity to Universities on House Prices after the COVID Outbreak.\" https://www.mdpi.com/1911-8074/16/3/167"
   ]
  },
  {
   "cell_type": "markdown",
   "metadata": {},
   "source": [
    "# Hypothesis\n"
   ]
  },
  {
   "cell_type": "markdown",
   "metadata": {},
   "source": [
    "Our team hypothesizes that rental prices will be significantly higher in zip codes adjacent to the University of California, San Diego (UCSD) and other colleges compared to those further away. This expected outcome is based on the principle that properties closer to higher education institutions benefit from enhanced accessibility to a variety of amenities, including educational opportunities, cultural events, and potential employment, which in turn increases demand and drives up rental prices. Our thinking aligns with existing literature which suggests that proximity to universities is a key factor contributing to higher real estate values, as evidenced by the broader appeal and desirability of living near such institutions."
   ]
  },
  {
   "cell_type": "markdown",
   "metadata": {},
   "source": [
    "# Data"
   ]
  },
  {
   "cell_type": "markdown",
   "metadata": {},
   "source": [
    "The ideal dataset we would need is one that contains variables that are correlated with housing prices. To make as accurate predictions as possible it is important to find as many features as possible that might have some sort of relationship with the price of a house. Some example features include: location, age of the building, size of the living space, and number of rooms. Utilizing macroeconomic features instead of just using house-specific features is also a possibility, which would mean including features such as interest rates, inflation, and unemployment rates. Finding a dataset that has house-specific data would be ideal as we can add macroeconomic features to that dataset easily. Our features would be collected from the houses whose price we are trying to predict.\n",
    "\n",
    "The ideal dataset for predicting housing prices would ideally contain a comprehensive range of variables correlated with housing prices, encompassing both house-specific and macroeconomic features. House-specific variables might include the location, age of the building, size of the living space, and number of rooms. On the macroeconomic side, incorporating features such as interest rates, inflation, and unemployment rates could provide additional insights. Adding temporal variables could also be beneficial, especially in markets with seasonal fluctuations in housing demand, and tracking the duration properties stay on the market before sale could offer further understanding of market dynamics.\n",
    "\n",
    "In terms of dataset size, it should be large enough to capture a wide variety of market conditions, geographic locations, and housing types to build a robust predictive model. The exact size would depend on the complexity of the model and the geographical scope but should include thousands to potentially millions of records to ensure statistical significance and diversity.\n",
    "\n",
    "\n",
    "For the time period, the data should be as current as possible, ideally with records extending up to the present to reflect the latest market conditions. Data should be collected over a period that captures a range of economic conditions, including several years to a decade, to understand long-term trends and cyclical patterns.\n",
    "\n",
    "\n",
    "Considering the volatility of the housing market and the impact of unforeseen events such as pandemics or economic crises, the dataset should also allow for the analysis of significant external impacts. This could mean including data points from before, during, and after such events, or creating models that can adjust predictions based on scenarios involving these significant events.\n",
    "\n",
    "\n",
    "Regarding the frequency of data collection, daily counts may be too granular and subject to day-to-day volatility, making monthly data a more practical choice. Monthly data can smooth out short-term fluctuations while still capturing significant trends and seasonal patterns essential for accurate predictions.\n",
    "\n",
    "\n",
    "Incorporating temporal variables could provide further insights, especially in markets that experience seasonal fluctuations. For example, housing prices might peak during certain times of the year due to increased demand. Additionally, tracking the length of time properties stay on the market before being sold could help in understanding market dynamics and pricing pressures.\n",
    "\n",
    "\n",
    "In terms of time period, a more current time period would be good as the point of these models is to predict on unseen data. The housing market can be volatile from year to year, and it’s important to have current and up to date data so we can be more accurate on our future predictions.\n",
    "\n",
    "\n",
    "In addition to the specific details of each house, if we also consider utilizing macroeconomic features, this means looking at factors such as interest rates, inflation, and unemployment. While it's impossible to predict specific events in the future, such as a major economic depression, war, or a sudden rise in unemployment due to social factors, we can use past economic trends and patterns to make educated guesses about what might happen next (but in the past A lot of the data has changed due to changes in the epidemic and war. How do we delete this variable? (Or maybe it would be better to do analysis based on monthly price fluctuations?) Therefore, if we want to make some macroeconomic considerations, we must also collect factors such as war, epidemic, and time... to help our predictions be more accurate.\n",
    "\n",
    "\n",
    "For example, none of us could have predicted the arrival of COVID-19, but what we could do was build options for users to consider potential large-scale events, such as pandemics or wars. This way, users can adjust their forecasts based on these major events to get a more accurate picture of what may happen in the future. (If we want to add this function, our coding part will be much more complicated)"
   ]
  },
  {
   "cell_type": "markdown",
   "metadata": {},
   "source": [
    "# Ethics & Privacy"
   ]
  },
  {
   "cell_type": "markdown",
   "metadata": {},
   "source": [
    "***Informed consent:***\n",
    "- In the data proposed, a number of ethics and privacy issues can be identified if the house-specific data is not collected correctly. Residential home data especially can contain  sensitive information and it's crucial to ensure that individual privacy is respected. In our analysis, we are using datasets from Zillow Group, a reputable real estate service provider. Zillow Group collects user data through various interactions on its platform, such as property searches, purchases, rentals, and sales. The company's privacy policy emphasizes its commitment to protecting personal data by outlining the types of information collected, its intended uses, the parties with whom it may be shared, and the protective measures taken in place. Users are also provided with tools to manage their privacy preferences. By using datasets from Zillow Group, checking the terms of use, and complying with these conditions, our research will aim to align with the principles of privacy and data protection emphasized in the company's Privacy Notice. Furthermore, when working with the data, additional care should also be taken to aggregate and anonymize data wherever possible. The homeowners should have been informed consent particularly if the dataset includes personal information that can lead back to the property owners. In the project, we also will be transparent with where the data acquired from Zillow originates, whether it's from public records, private surveys, or other sources.\n",
    "\n",
    "***Data Privacy:***\n",
    "- To enhance the dataset's privacy, the data should be anonymized or aggregated so that an individual’s identification can be concealed. This protects against data misuse, which can include vulnerable information such as a house’s address. This approach adheres to the data privacy policies of Zillow Group, ensuring the confidentiality of individuals represented in the dataset.When working with the dataset, data can also be grouped by certain relevant factors, like geographic regions, and aggregate functions can be used to consolidate information. For instance, rental prices of properties can be aggregated to get the average rental price for each neighborhood or ZIP code in SD. Additionally, instead of using exact age, you might categorize respondents into age groups, so individuals can be generalized. PII should be removed, such as name and address, identifiers can be subbed by pseudonyms unrelated linked to an individual's identity, and certain values of the data can be masked. Data security measures should also be adopted to handle sensitive information, including hashing and practicing encryption protocols during storage and transmission so the data is unreadable or only those with authorized access can view the data.\n",
    "\n",
    "***Potential Bias:***\n",
    "- We recognize that our dataset may have biases that could affect the validity of our findings. These biases could stem from data collection or the representation of the dataset itself. To ensure equitable analysis, we have to be aware of potential biases in the dataset. We need to consider possible population exclusion by observing the dataset's collection methods. If there are biases in the collection process, it may impact the analysis. For example, if data is collected only from certain sources, it may not be representative of the entire housing market. Even though smaller real estate agencies and community groups might not be as widely recognized, they hold imperative information that can contribute towards forming a comprehensive view of the real estate market. However, we will exercise caution to ensure that this information is reliable and useful. We will start by initiating data from reputable, larger-scaled sources and then incorporate additional details from a diverse set of resources for a more complete understanding. Additionally, transparency is critical, and we'll be attentive towards producing reports that elaborate on our data collection, utilization, and safeguarding processes.Furthermore, we need to acknowledge inherent limitations within the data itself. Selection bias of rentals, possibly stemming from disproportionate representation by certain agencies or regions, could skew predictions for housing prices. Employing techniques such as oversampling will be beneficial to mitigate biases. Recognizing biases in the data is pivotal, as they can exacerbate inequalities, impacting future housing predictions and exacerbating socioeconomic issues such as gentrification and displacement. To counteract these issues, we need to conduct thorough exploratory data analysis to understand features like the demographic and geographic distribution of the data. Through mapping, graphical, or spatial visualization, patterns and distributions in the dataset can be recognized. EDA helps identify clusters, outliers, or factors that may have a disproportionate influence on the analysis. Under/overrepresentation can be accounted for, data completeness can be identified, and relationships or statistical summaries can be generated. Understanding the distribution of data will help in addressing potential biases during our analysis. It is imperative to openly recognize these biases, address the confines of our dataset, and exercise caution in utilizing models to prevent the perpetuation of biased perspectives on housing market issues.\n",
    "\n"
   ]
  },
  {
   "cell_type": "markdown",
   "metadata": {},
   "source": [
    "# Team Expectations "
   ]
  },
  {
   "cell_type": "markdown",
   "metadata": {},
   "source": [
    "1. Show up to team meetings in a timely manner.\n",
    "2. Finish on time, if not possible then communicate\n",
    "3. Confirm the time and date of the group meeting in the groupchat\n",
    "4. Meet up weekly to confirm everyone is on the same page\n",
    "5. Communicate any roadblocks early and often to avoid scrambling before the due date.\n",
    "6. Complete all individual work before Saturday evening to leave enough time to discuss and get feedback before submitting."
   ]
  },
  {
   "cell_type": "markdown",
   "metadata": {},
   "source": [
    "# Project Timeline Proposal"
   ]
  },
  {
   "cell_type": "markdown",
   "metadata": {},
   "source": [
    "| Meeting Date  | Meeting Time | Completed Before Meeting  | Discuss at Meeting |\n",
    "|---|---|---|---|\n",
    "| 2/9  |  1 PM | Read & Think about COGS 108 expectations; brainstorm topics/questions | Determine best form of communication; Discuss and decide on final project topic; discuss hypothesis; begin background research | \n",
    "| 2/16 |  1 PM | Do background research on topic | Discuss ideal dataset(s) and ethics; draft project proposal | \n",
    "| 2/23 |  1 PM | Edit, finalize, and submit proposal; Search for datasets | Discuss Wrangling and possible analytical approaches; Assign group members to lead each specific part |\n",
    "| 3/1  |  1 PM | Import & Wrangle Data; EDA | Review/Edit wrangling/EDA; Discuss Analysis Plan |\n",
    "| 3/8  |  1 PM | Finalize wrangling/EDA/ Begin analysis | Discuss/edit Analysis; Complete project check-in |\n",
    "| 3/15 |  1 PM | Complete analysis; Draft results/conclusion/discussion | Discuss/edit full project |\n",
    "| 3/20 |  1 PM | NA | Turn in Final Project & Group Project Surveys |"
   ]
  }
 ],
 "metadata": {
  "kernelspec": {
   "display_name": "Python 3 (ipykernel)",
   "language": "python",
   "name": "python3"
  },
  "language_info": {
   "codemirror_mode": {
    "name": "ipython",
    "version": 3
   },
   "file_extension": ".py",
   "mimetype": "text/x-python",
   "name": "python",
   "nbconvert_exporter": "python",
   "pygments_lexer": "ipython3",
   "version": "3.9.12"
  }
 },
 "nbformat": 4,
 "nbformat_minor": 2
}
