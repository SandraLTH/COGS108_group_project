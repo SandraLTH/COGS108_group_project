{
 "cells": [
  {
   "cell_type": "markdown",
   "metadata": {},
   "source": [
    "**If you lost points on the last checkpoint you can get them back by responding to TA/IA feedback**  \n",
    "\n",
    "Update/change the relevant sections where you lost those points, make sure you respond on GitHub Issues to your TA/IA to call their attention to the changes you made here.\n",
    "\n",
    "Please update your Timeline... no battle plan survives contact with the enemy, so make sure we understand how your plans have changed."
   ]
  },
  {
   "cell_type": "markdown",
   "metadata": {},
   "source": [
    "# COGS 108 - Data Checkpoint"
   ]
  },
  {
   "cell_type": "markdown",
   "metadata": {},
   "source": [
    "# Names\n",
    "\n",
    "- Sandra Lin \n",
    "- Rebekah Kim\n",
    "- Arman Rahman\n",
    "- Charline Li\n",
    "- Wen Hsin Chang\n"
   ]
  },
  {
   "cell_type": "markdown",
   "metadata": {},
   "source": [
    "# Research Question"
   ]
  },
  {
   "cell_type": "markdown",
   "metadata": {},
   "source": [
    "**How does the proximity to the University of California, San Diego (UCSD) and other colleges in San Diego affect the prices of residential homes in the surrounding areas?**\n",
    "\n",
    "This question aims to quantify the relationship between the proximity of residential properties to higher education institutions in San Diego and their rental prices. By focusing on the variables of zip codes of college-adjacent areas, the number of bedrooms in a rental property, and the rental prices, we seek to understand how closeness to UCSD and other colleges affects the cost of renting in these locales. This approach allows for a data-driven analysis of the premium placed on properties near educational institutions and how this varies across different types of rental accommodations."
   ]
  },
  {
   "cell_type": "markdown",
   "metadata": {},
   "source": [
    "## Background and Prior Work"
   ]
  },
  {
   "cell_type": "markdown",
   "metadata": {},
   "source": [
    "\n",
    "The interplay between higher education institutions and local real estate markets, particularly in terms of rental prices, presents a fascinating area of study that has garnered considerable attention in academic research. The presence of universities is often seen as a catalyst for higher rental prices in surrounding areas, attributed to the amenities and opportunities these institutions provide. This dynamic is evident in various global contexts, from Beijing to multiple U.S. cities, underscoring the universal appeal of living near educational establishments for access to education, employment, cultural events, and improved infrastructure.\n",
    "\n",
    "In San Diego, the proximity to higher education institutions such as the University of California, San Diego (UCSD), along with other colleges, offers a unique case study to examine this phenomenon within the local rental market. The following sections delve into how these relationships manifest in San Diego, drawing on the broader insights provided by previous research and focusing on the specific impact that UCSD and other colleges have on rental prices.\n",
    "\n",
    "**Impact of UCSD on Rental Housing Market in San Diego**\n",
    "\n",
    "Similar to the findings of Minggang Feng in Beijing, the San Diego rental market demonstrates a significant premium on properties located near UCSD<a name=\"cite_ref-1\"></a>[<sup>1</sup>](#cite_note-1). The university not only serves as an educational hub but also as a center for cultural and recreational activities, enhancing the desirability of nearby neighborhoods. This premium reflects the high demand for rental properties offering convenient access to the university's resources, amenities, and employment opportunities. The specific impact of UCSD on San Diego's rental prices can be analyzed through regression analysis, mirroring Feng's approach to explore the correlation between proximity to UCSD and elevated rent levels.\n",
    "\n",
    "**Broader Influence of Educational and Healthcare Institutions**\n",
    "\n",
    "Expanding upon the work of Ryan Rivas et al., which examined the collective impact of colleges and hospitals on real estate values across U.S. cities, a similar analysis in San Diego would likely reveal that properties near both educational and medical facilities command higher rents<a name=\"cite_ref-2\"></a>[<sup>2</sup>](#cite_note-2). This phenomenon underscores the broader economic and social value these institutions add to communities. In San Diego, the presence of UCSD Medical Center alongside other colleges contributes to this effect, further enhancing the attractiveness of the local real estate market for potential renters seeking proximity to both educational and healthcare amenities.\n",
    "\n",
    "**Continued Appeal of Living Near Universities**\n",
    "\n",
    "Building on the insights from Wang's research on the post-COVID appeal of university proximities, the San Diego case emphasizes the enduring demand for housing near academic institutions like UCSD<a name=\"cite_ref-3\"></a>[<sup>3</sup>](#cite_note-3)\n",
    ". Despite broader economic or societal shifts, including those induced by the COVID-19 pandemic, the appeal of living near universities remains strong. This sustained interest is driven by the value proposition offered by such locations, including accessibility to educational, cultural, and recreational amenities, which continues to influence buyer preferences and rental market dynamics in San Diego.\n",
    "\n",
    "These considerations offer a comprehensive view of the dynamics at play in the rental market around UCSD and other colleges in San Diego. By examining the specific impacts of these institutions, this analysis contributes to a deeper understanding of the factors influencing rental prices, providing valuable insights for renters, investors, and policymakers. The case of San Diego reaffirms the significant role higher education institutions play in shaping local real estate markets, emphasizing the importance of educational proximity in urban planning and real estate investment decisions.\n",
    "\n",
    "1. <a name=\"cite_note-1\"></a> [^](#cite_ref-1) Feng, M. \"How will proximity to higher education affect the rental housing market? A case in Beijing. A regression analysis of rent level in Beijing.\" https://www.diva-portal.org/smash/get/diva2:1335037/FULLTEXT01.pdf\n",
    "2. <a name=\"cite_note-2\"></a> [^](#cite_ref-2) Rivas, R., Patil, D., Hristidis, V., Barr, J.R., & Srinivasan, N. (2019). \"The impact of colleges and hospitals to local real estate markets.\" Journal of Big Data, 6(7). https://journalofbigdata.springeropen.com/articles/10.1186/s40537-019-0174-7\n",
    "3. <a name=\"cite_note-3\"></a> [^](#cite_ref-3) Bingbing Wang, \"The Effect of Proximity to Universities on House Prices after the COVID Outbreak.\" https://www.mdpi.com/1911-8074/16/3/167"
   ]
  },
  {
   "cell_type": "markdown",
   "metadata": {},
   "source": [
    "# Hypothesis\n"
   ]
  },
  {
   "cell_type": "markdown",
   "metadata": {},
   "source": [
    "Our team hypothesizes that rental prices will be significantly higher in zip codes adjacent to the University of California, San Diego (UCSD) and other colleges compared to those further away. This expected outcome is based on the principle that properties closer to higher education institutions benefit from enhanced accessibility to a variety of amenities, including educational opportunities, cultural events, and potential employment, which in turn increases demand and drives up rental prices. Our thinking aligns with existing literature which suggests that proximity to universities is a key factor contributing to higher real estate values, as evidenced by the broader appeal and desirability of living near such institutions."
   ]
  },
  {
   "cell_type": "markdown",
   "metadata": {},
   "source": [
    "# Data"
   ]
  },
  {
   "cell_type": "markdown",
   "metadata": {},
   "source": [
    "## Data overview\n",
    "\n",
    "- Zillow Housing Data\n",
    "  - Dataset Name: `rentals.csv`\n",
    "  - Link to the dataset: https://www.zillow.com/research/data/\n",
    "  - Number of observations: 5,191\n",
    "  - Number of variables: 5\n",
    "\n",
    "  \n",
    "  <br>\n",
    "\n",
    "The dataset `rentals.csv` comprises 5,191 observations with 5 variables, focusing on rental properties. The key variables include:\n",
    "\n",
    "- `ZIP Code`\n",
    "    - An integer representing the postal code of the rental property, which can be used to identify geographical locations and their proximity to colleges.\n",
    "    -This variable can act as a proxy for geographic location, encompassing concepts like regional housing demand, socio-economic status of an area, urban vs. rural settings, and proximity to amenities or employment centers. ZIP Codes can help analysts infer market segmentation, regional price disparities, and the impact of location on rental prices.\n",
    "- `Price Info`\n",
    "    - A string detailing the rental price and the type of unit (e.g., \"1 bd\" for one bedroom), serving as a textual summary of the price and size.\n",
    "    - While primarily offering detailed rental price information in a textual format, this variable could indirectly serve as a proxy for market positioning or target tenant demographics by highlighting the starting price point and the type of units available (e.g., 1 bedroom, studio). It may also reflect marketing strategies employed by landlords or property managers.\n",
    "- `price`\n",
    "    - An integer indicating the monthly rental price in USD. This variable directly measures the cost of renting properties.\n",
    "    - The rental price is a direct measure of housing affordability and can be used as a proxy for demand, cost of living, and the economic status of a region. It reflects the willingness to pay in different markets and can indicate the relative desirability of locations or property features.\n",
    "- `bedrooms`\n",
    "    - A mixed-type variable (integers for numerical values and \"Studio\" for studio apartments) indicating the number of bedrooms in the rental unit. This variable helps assess how the size of a property correlates with its rental price.\n",
    "    - The number of bedrooms in a rental unit can serve as a proxy for the size or type of household the property is suitable for, such as singles, couples, or families. This variable can also indicate housing density and is relevant for studying market segmentation by household size or preferences.\n",
    "- `near_college`\n",
    "    - A boolean indicating whether the property is near a college, providing a simple yes/no measure of proximity to higher education institutions.\n",
    "    - Being near a college can be a strong proxy for a variety of market dynamics, including higher demand from student populations, potential for rental income stability (or volatility, depending on the academic calendar), and a propensity for shorter-term leases. It might also influence rental prices and vacancy rates, reflecting a property's appeal to a younger demographic or those affiliated with academic institutions.\n",
    "\n",
    "\n",
    "<br>\n",
    "\n",
    "\n",
    "**Data Wrangling and Preprocessing Needs**\n",
    "\n",
    "Cleaning Bedrooms Data\n",
    "- Convert the bedrooms column to a numerical format, where studios might be coded as 0 or another distinct value to differentiate them from one-bedroom units.\n",
    "\n",
    "Redundancy of Price Info\n",
    "- Given that Price Info combines information available in price and bedrooms, it might be redundant for analytical models. However, it could be useful for initial data exploration or creating visualizations that require descriptive labels.\n",
    "\n",
    "ZIP Code Analysis\n",
    "- While ZIP Code is correctly typed as an integer, for merging with other datasets or geographic analysis, it might be treated as a categorical variable, requiring conversion to a string format to preserve leading zeros or for compatibility with geospatial libraries."
   ]
  },
  {
   "cell_type": "markdown",
   "metadata": {},
   "source": [
    "## Zillow Rental Listing Database"
   ]
  },
  {
   "cell_type": "code",
   "execution_count": null,
   "metadata": {},
   "outputs": [],
   "source": [
    "import time\n",
    "import pandas as pd\n",
    "import requests\n",
    "from bs4 import BeautifulSoup\n",
    "import numpy as np"
   ]
  },
  {
   "cell_type": "code",
   "execution_count": null,
   "metadata": {},
   "outputs": [],
   "source": [
    "san_diego_zip_codes = [\n",
    "    \"91911\", \"92154\", \"92592\", \"91910\", \"92126\", \"92105\", \"92021\", \"92114\", \"91977\", \"92562\", \"92020\", \"92115\",\n",
    "    \"92071\", \"92027\", \"91950\", \"92130\", \"92129\", \"92056\", \"92057\", \"91913\", \"92117\", \"92024\", \"92113\", \"92028\", \"92025\", \n",
    "    \"92026\", \"92084\", \"92111\", \"92127\", \"92078\", \"92064\", \"92128\", \"92009\", \"92104\", \"92122\", \"92069\", \"92040\", \"92109\", \n",
    "    \"92019\", \"92101\", \"92102\", \"91942\", \"92675\", \"92054\", \"92037\", \"92065\", \"92672\", \"92131\", \"92083\", \"92058\", \"92139\", \n",
    "    \"92123\", \"91915\", \"91941\", \"92103\", \"92673\", \"92124\", \"92110\", \"92107\", \"92116\", \"92173\", \"92008\", \"92081\", \"92120\", \n",
    "    \"91945\", \"91932\", \"92119\", \"92011\", \"92029\", \"92082\", \"92108\", \"92106\", \"91902\", \"91901\", \"92010\", \"92055\", \"91914\", \n",
    "    \"92118\", \"92014\", \"92075\", \"91978\", \"92007\", \"91935\", \"92067\", \"92121\", \"92003\", \"91906\", \"92539\", \"92004\", \"92136\", \n",
    "    \"92036\", \"91962\", \"92140\", \"91917\", \"92135\", \"91916\", \"92061\", \"92086\", \"91905\", \"92259\", \"92059\", \"92182\", \"92091\", \n",
    "    \"91934\", \"92070\", \"92066\", \"91990\", \"92132\", \"92147\", \"91963\", \"92134\", \"91931\", \"92060\", \"91948\", \"91947\", \"92162\", \n",
    "    \"92164\", \"92184\", \"92190\", \"92194\", \"92090\", \"91980\", \"92093\", \"92161\", \"92133\", \"91921\", \"91933\", \"91943\", \"91944\", \n",
    "    \"91946\", \"91951\", \"91976\", \"91979\", \"91987\", \"92013\", \"92018\", \"92022\", \"92023\", \"92030\", \"92033\", \"92038\", \"92039\", \n",
    "    \"92049\", \"92046\", \"92052\", \"92051\", \"92068\", \"92074\", \"92072\", \"92079\", \"92085\", \"92088\", \"92092\", \"92096\", \"92112\", \n",
    "    \"92138\", \"92137\", \"92143\", \"92142\", \"92145\", \"92150\", \"92149\", \"92153\", \"92152\", \"92155\", \"92159\", \"92158\", \"92160\", \n",
    "    \"92163\", \"92165\", \"92167\", \"92166\", \"92169\", \"92168\", \"92171\", \"92170\", \"92172\", \"92175\", \"92174\", \"92177\", \"92176\", \n",
    "    \"92179\", \"92178\", \"92187\", \"92186\", \"92191\", \"92193\", \"92192\", \"92195\", \"92197\", \"92196\", \"92199\", \"92198\", \"91903\", \n",
    "    \"91908\", \"91909\", \"91912\"\n",
    "]  # Add more ZIP codes as needed"
   ]
  },
  {
   "cell_type": "code",
   "execution_count": null,
   "metadata": {},
   "outputs": [],
   "source": [
    "def fetch_rental_listings(zip_code):\n",
    "    # Replace `your_target_url` with the URL of the site you have permission to scrape\n",
    "    url = f\"http://zillow.com/san-diego-ca-{zip_code}/rentals\"\n",
    "    #www.zillow.com/san-diego-ca-92101/rentals/\n",
    "    headers = {\n",
    "    'User-Agent': 'Mozilla/5.0 (Windows NT 10.0; Win64; x64) AppleWebKit/537.36 (KHTML, like Gecko) Chrome/58.0.3029.110 Safari/537.3',\n",
    "    'Accept-Language': 'en-US,en;q=0.9',\n",
    "    'Accept-Encoding': 'gzip, deflate, br',\n",
    "    'Referer': 'http://www.google.com/',\n",
    "    'DNT': '1',  # Do Not Track Request Header\n",
    "    'Connection': 'keep-alive'\n",
    "    }\n",
    "\n",
    "    response = requests.get(url, headers=headers)\n",
    "    # Send a GET request to the URL\n",
    "    #response = requests.get(url, headers={'User-Agent': 'Mozilla/5.0'})\n",
    "    \n",
    "    # Check if the request was successful\n",
    "    if response.status_code == 200:\n",
    "        soup = BeautifulSoup(response.text, 'html.parser')\n",
    "        \n",
    "        # Find all span tags with the specific data-test attribute\n",
    "        price_tags = soup.find_all('span', {'data-test': 'property-card-price'})\n",
    "        \n",
    "         # Initialize an empty list to store price information\n",
    "        price_info_list = []\n",
    "        \n",
    "        for tag in price_tags:\n",
    "            # Extract the text from each tag, which includes the price and possibly other details like number of beds\n",
    "            price_info = tag.text\n",
    "            \n",
    "            price_info_list.append({'ZIP Code': zip_code, 'Price Info': price_info})\n",
    "            # print out price info\n",
    "            #print(f\"Price Info: {price_info}\")\n",
    "        return price_info_list\n",
    "            \n",
    "    else:\n",
    "        print(f\"Failed to fetch listings for zipcode: {zip_code} status code: {response.status_code}\")\n",
    "        return {}"
   ]
  },
  {
   "cell_type": "code",
   "execution_count": null,
   "metadata": {},
   "outputs": [],
   "source": [
    "# Example usage with a San Diego ZIP code\n",
    "#fetch_rental_listings('91911') \n",
    "\n",
    "df = pd.DataFrame(columns=['ZIP Code', 'Price Info'])\n",
    "\n",
    "for zip_code in san_diego_zip_codes:\n",
    "    print(f\"Fetching listings for ZIP code: {zip_code}\")\n",
    "    price_info_list = fetch_rental_listings(zip_code)  # Assume this function returns a list of price info strings\n",
    "    \n",
    "    for price_info in price_info_list:\n",
    "        # Append each price info along with its ZIP code to the DataFrame\n",
    "        df = pd.concat([df, pd.DataFrame(price_info_list)], ignore_index=True)\n",
    "\n",
    "df.head()"
   ]
  },
  {
   "cell_type": "code",
   "execution_count": null,
   "metadata": {},
   "outputs": [],
   "source": [
    "def get_price(value):\n",
    "    parts = value.split()\n",
    "    price = ''.join(filter(str.isdigit, parts[0]))\n",
    "    return price"
   ]
  },
  {
   "cell_type": "code",
   "execution_count": null,
   "metadata": {},
   "outputs": [],
   "source": [
    "def get_bedrooms(value):\n",
    "    parts = value.split()\n",
    "    bedrooms = np.nan\n",
    "    if 'bd' in value:\n",
    "        # Extract the substring before 'bd' and get the last word (number of bedrooms)\n",
    "        bedrooms = value.split('bd')[0].split()[-1]\n",
    "    elif 'Studio' in value:\n",
    "        # Set bedrooms to 0 for studios\n",
    "        bedrooms = 'Studio'\n",
    "    return bedrooms"
   ]
  },
  {
   "cell_type": "code",
   "execution_count": null,
   "metadata": {},
   "outputs": [],
   "source": [
    "df[\"price\"] = df[\"Price Info\"].apply(get_price)\n",
    "df[\"bedrooms\"] = df[\"Price Info\"].apply(get_bedrooms)\n",
    "df[\"bedrooms\"].unique()\n",
    "nan_count = df['bedrooms'].isna().sum()\n",
    "df = df.dropna(subset = [\"bedrooms\"])\n",
    "df.shape"
   ]
  },
  {
   "cell_type": "code",
   "execution_count": null,
   "metadata": {},
   "outputs": [],
   "source": [
    "college_zip_codes = {\n",
    "    '92096': ['California State University - San Marcos'],\n",
    "    '92101': [\n",
    "        'California Western School of Law',\n",
    "        'Thomas Jefferson School of Law',\n",
    "        'San Diego City College'\n",
    "    ],\n",
    "    '92019': ['San Diego Christian College'],\n",
    "    '92037': ['National University'],\n",
    "    '92106': ['Point Loma Nazarene University'],\n",
    "    '92115': ['San Diego State University'],\n",
    "    '92093': ['University of California San Diego'],\n",
    "    '92123': ['University of Phoenix'],\n",
    "    '92110': ['University of San Diego'],\n",
    "    '92131': ['Alliant International University'],\n",
    "    '92108': ['Azusa Pacific University',\n",
    "        'Brandman University',\n",
    "        'San Diego Community College District'\n",
    "    ],\n",
    "    '92111': ['California College San Diego', 'San Diego Mesa College'],\n",
    "    '92025': ['John Paul the Great Catholic University'],\n",
    "    '92020': ['Grossmont College'],\n",
    "    '92056': ['MiraCosta College'],\n",
    "    '92069': ['Palomar Community College'],\n",
    "    '92126': ['San Diego Miramar College'],\n",
    "    '91910': ['Southwestern College']\n",
    "}"
   ]
  },
  {
   "cell_type": "code",
   "execution_count": null,
   "metadata": {},
   "outputs": [],
   "source": [
    "df[\"near_college\"] = df[\"ZIP Code\"].apply(lambda x: True if x in college_zip_codes else False)"
   ]
  },
  {
   "cell_type": "code",
   "execution_count": null,
   "metadata": {},
   "outputs": [],
   "source": [
    "#save df as csv locally\n",
    "df.to_csv('rentals.csv', index=False)"
   ]
  },
  {
   "cell_type": "markdown",
   "metadata": {},
   "source": [
    "# Ethics & Privacy"
   ]
  },
  {
   "cell_type": "markdown",
   "metadata": {},
   "source": [
    "***Informed consent:***\n",
    "- In the data proposed, a number of ethics and privacy issues can be identified if the house-specific data is not collected correctly. Residential home data especially can contain  sensitive information and it's crucial to ensure that individual privacy is respected. In our analysis, we are using datasets from Zillow Group, a reputable real estate service provider. Zillow Group collects user data through various interactions on its platform, such as property searches, purchases, rentals, and sales. The company's privacy policy emphasizes its commitment to protecting personal data by outlining the types of information collected, its intended uses, the parties with whom it may be shared, and the protective measures taken in place. Users are also provided with tools to manage their privacy preferences. By using datasets from Zillow Group, checking the terms of use, and complying with these conditions, our research will aim to align with the principles of privacy and data protection emphasized in the company's Privacy Notice. Furthermore, when working with the data, additional care should also be taken to aggregate and anonymize data wherever possible. The homeowners should have been informed consent particularly if the dataset includes personal information that can lead back to the property owners. In the project, we also will be transparent with where the data acquired from Zillow originates, whether it's from public records, private surveys, or other sources.\n",
    "\n",
    "***Data Privacy:***\n",
    "- To enhance the dataset's privacy, the data should be anonymized or aggregated so that an individual’s identification can be concealed. This protects against data misuse, which can include vulnerable information such as a house’s address. This approach adheres to the data privacy policies of Zillow Group, ensuring the confidentiality of individuals represented in the dataset.When working with the dataset, data can also be grouped by certain relevant factors, like geographic regions, and aggregate functions can be used to consolidate information. For instance, rental prices of properties can be aggregated to get the average rental price for each neighborhood or ZIP code in SD. Additionally, instead of using exact age, you might categorize respondents into age groups, so individuals can be generalized. PII should be removed, such as name and address, identifiers can be subbed by pseudonyms unrelated linked to an individual's identity, and certain values of the data can be masked. Data security measures should also be adopted to handle sensitive information, including hashing and practicing encryption protocols during storage and transmission so the data is unreadable or only those with authorized access can view the data.\n",
    "\n",
    "***Potential Bias:***\n",
    "- We recognize that our dataset may have biases that could affect the validity of our findings. These biases could stem from data collection or the representation of the dataset itself. To ensure equitable analysis, we have to be aware of potential biases in the dataset. We need to consider possible population exclusion by observing the dataset's collection methods. If there are biases in the collection process, it may impact the analysis. For example, if data is collected only from certain sources, it may not be representative of the entire housing market. Even though smaller real estate agencies and community groups might not be as widely recognized, they hold imperative information that can contribute towards forming a comprehensive view of the real estate market. However, we will exercise caution to ensure that this information is reliable and useful. We will start by initiating data from reputable, larger-scaled sources and then incorporate additional details from a diverse set of resources for a more complete understanding. Additionally, transparency is critical, and we'll be attentive towards producing reports that elaborate on our data collection, utilization, and safeguarding processes.Furthermore, we need to acknowledge inherent limitations within the data itself. Selection bias of rentals, possibly stemming from disproportionate representation by certain agencies or regions, could skew predictions for housing prices. Employing techniques such as oversampling will be beneficial to mitigate biases. Recognizing biases in the data is pivotal, as they can exacerbate inequalities, impacting future housing predictions and exacerbating socioeconomic issues such as gentrification and displacement. To counteract these issues, we need to conduct thorough exploratory data analysis to understand features like the demographic and geographic distribution of the data. Through mapping, graphical, or spatial visualization, patterns and distributions in the dataset can be recognized. EDA helps identify clusters, outliers, or factors that may have a disproportionate influence on the analysis. Under/overrepresentation can be accounted for, data completeness can be identified, and relationships or statistical summaries can be generated. Understanding the distribution of data will help in addressing potential biases during our analysis. It is imperative to openly recognize these biases, address the confines of our dataset, and exercise caution in utilizing models to prevent the perpetuation of biased perspectives on housing market issues.\n",
    "\n"
   ]
  },
  {
   "cell_type": "markdown",
   "metadata": {},
   "source": [
    "# Team Expectations "
   ]
  },
  {
   "cell_type": "markdown",
   "metadata": {},
   "source": [
    "* Show up to team meetings in a timely manner.\n",
    "* Finish on time, if not possible then communicate\n",
    "* Confirm the time and date of the group meeting in the groupchat\n",
    "* Meet up weekly to confirm everyone is on the same page\n",
    "* Communicate any roadblocks early and often to avoid scrambling before the due date.\n",
    "* Complete all individual work before Saturday evening to leave enough time to discuss and get feedback before submitting."
   ]
  },
  {
   "cell_type": "markdown",
   "metadata": {},
   "source": [
    "# Project Timeline Proposal"
   ]
  },
  {
   "cell_type": "markdown",
   "metadata": {},
   "source": [
    "Specify your team's specific project timeline. An example timeline has been provided. Changes the dates, times, names, and details to fit your group's plan.\n",
    "\n",
    "If you think you will need any special resources or training outside what we have covered in COGS 108 to solve your problem, then your proposal should state these clearly. For example, if you have selected a problem that involves implementing multiple neural networks, please state this so we can make sure you know what you’re doing and so we can point you to resources you will need to implement your project. Note that you are not required to use outside methods.\n",
    "\n",
    "\n",
    "\n",
    "| Meeting Date  | Meeting Time| Completed Before Meeting  | Discuss at Meeting |\n",
    "|---|---|---|---|\n",
    "| 2/9  |  1 PM | Read & Think about COGS 108 expectations; brainstorm topics/questions  | Determine best form of communication; Discuss and decide on final project topic; discuss hypothesis; begin background research | \n",
    "| 2/16  |  1 PM |  Do background research on topic | Discuss ideal dataset(s) and ethics; draft project proposal | \n",
    "| 2/23  | 1 PM  | Edit, finalize, and submit proposal; Search for datasets  | Discuss Wrangling and possible analytical approaches; Assign group members to lead each specific part   |\n",
    "| 3/1  | 1 PM  | Import & Wrangle Data (Arman); EDA (Rebekah, Charline) | Review/Edit wrangling/EDA; Discuss Analysis Plan   |\n",
    "| 3/8  | 1 PM  | Finalize wrangling/EDA; Begin Analysis (Sandra) | Discuss/edit Analysis; Complete project check-in |\n",
    "| 3/15  | 11 PM  | Complete analysis; Draft results/conclusion/discussion (Wen)| Discuss/edit full project |\n",
    "| 3/20  | 1 PM  | NA | Turn in Final Project & Group Project Surveys |"
   ]
  }
 ],
 "metadata": {
  "kernelspec": {
   "display_name": "Python 3 (ipykernel)",
   "language": "python",
   "name": "python3"
  },
  "language_info": {
   "codemirror_mode": {
    "name": "ipython",
    "version": 3
   },
   "file_extension": ".py",
   "mimetype": "text/x-python",
   "name": "python",
   "nbconvert_exporter": "python",
   "pygments_lexer": "ipython3",
   "version": "3.9.6"
  }
 },
 "nbformat": 4,
 "nbformat_minor": 2
}
